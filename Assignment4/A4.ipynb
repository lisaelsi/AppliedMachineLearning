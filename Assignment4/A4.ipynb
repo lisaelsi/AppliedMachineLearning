{
 "cells": [
  {
   "cell_type": "code",
   "execution_count": 5,
   "metadata": {},
   "outputs": [],
   "source": [
    "import numpy as np\n",
    "from sklearn.base import BaseEstimator\n",
    "import matplotlib.pyplot as plt\n",
    "import pandas as pd"
   ]
  },
  {
   "attachments": {},
   "cell_type": "markdown",
   "metadata": {},
   "source": [
    "## **Assignment 4**\n",
    "**Lisa Samuelsson & Dylan Osolian**"
   ]
  },
  {
   "attachments": {},
   "cell_type": "markdown",
   "metadata": {},
   "source": [
    "### **Exercise question**\n",
    "**Why could the classifier \"memorize\" the training data in the first case, but not in the second case?**\n"
   ]
  },
  {
   "attachments": {},
   "cell_type": "markdown",
   "metadata": {},
   "source": [
    "In the first case, the training data was linearly separable. In the second case however, the data is not linearly separable, and therefore the classifier can't \"memorize\" it. We can see this by encoding and plotting the data:"
   ]
  },
  {
   "attachments": {},
   "cell_type": "markdown",
   "metadata": {},
   "source": [
    "**Data set 1, encoding of the features:**\\\n",
    "**City**\\\n",
    "Gothenburg = 1\\\n",
    "Paris = 0\n",
    "\n",
    "**Month**\\\n",
    "July = 1\\\n",
    "December = 0\n",
    "\n",
    "**Weather**\\\n",
    "Rain\\\n",
    "Sun"
   ]
  },
  {
   "cell_type": "code",
   "execution_count": 45,
   "metadata": {},
   "outputs": [
    {
     "data": {
      "image/png": "[encoded data removed]",
      "text/plain": [
       "<Figure size 432x288 with 1 Axes>"
      ]
     },
     "metadata": {
      "needs_background": "light"
     },
     "output_type": "display_data"
    }
   ],
   "source": [
    "data_1 = [[1, 1, 'Rain'], [1, 0, 'Rain'], [0, 1, 'Sun'], [0, 0, 'Rain']]\n",
    "\n",
    "df_1 = pd.DataFrame(data_1, columns=['City', 'Month', 'Weather'])\n",
    "\n",
    "groups = df_1.groupby('Weather')\n",
    "for name, group in groups:\n",
    "    plt.plot(group.City, group.Month, marker='o', linestyle='', markersize=12, label=name)\n",
    "\n",
    "plt.ylabel('Weather')\n",
    "plt.xlabel('City')\n",
    "plt.legend()\n",
    "\n",
    "plt.show()"
   ]
  },
  {
   "attachments": {},
   "cell_type": "markdown",
   "metadata": {},
   "source": [
    "**Data set 2, encoding of the features:**\\\n",
    "**City**\\\n",
    "Paris = 1\\\n",
    "Sydney = 0\n",
    "\n",
    "**Month**\\\n",
    "July = 1\\\n",
    "December = 0\n",
    "\n",
    "**Weather**\\\n",
    "Rain\\\n",
    "Sun"
   ]
  },
  {
   "cell_type": "code",
   "execution_count": 46,
   "metadata": {},
   "outputs": [
    {
     "data": {
      "image/png": "[encoded data removed]",
      "text/plain": [
       "<Figure size 432x288 with 1 Axes>"
      ]
     },
     "metadata": {
      "needs_background": "light"
     },
     "output_type": "display_data"
    }
   ],
   "source": [
    "data_2 = [[0, 1, 'Rain'], [0, 0, 'Sun'], [1, 1, 'Sun'], [1, 0, 'Rain']]\n",
    "\n",
    "df_2 = pd.DataFrame(data_2, columns=['City', 'Month', 'Weather'])\n",
    "\n",
    "groups = df_2.groupby('Weather')\n",
    "for name, group in groups:\n",
    "    plt.plot(group.City, group.Month, marker='o', linestyle='', markersize=12, label=name)\n",
    "\n",
    "plt.ylabel('Weather')\n",
    "plt.xlabel('City')\n",
    "plt.legend()\n",
    "\n",
    "plt.show()"
   ]
  },
  {
   "attachments": {},
   "cell_type": "markdown",
   "metadata": {},
   "source": [
    "### **Given code for a general linear classifier**"
   ]
  },
  {
   "cell_type": "code",
   "execution_count": null,
   "metadata": {},
   "outputs": [],
   "source": [
    "# This is code for a general linear classifier. This code was given. \n",
    "class LinearClassifier(BaseEstimator):\n",
    "    \"\"\"\n",
    "    General class for binary linear classifiers. Implements the predict\n",
    "    function, which is the same for all binary linear classifiers. There are\n",
    "    also two utility functions.\n",
    "    \"\"\"\n",
    "\n",
    "    def decision_function(self, X):\n",
    "        \"\"\"\n",
    "        Computes the decision function for the inputs X. The inputs are assumed to be\n",
    "        stored in a matrix, where each row contains the features for one\n",
    "        instance.\n",
    "        \"\"\"\n",
    "        return X.dot(self.w)\n",
    "\n",
    "    def predict(self, X):\n",
    "        \"\"\"\n",
    "        Predicts the outputs for the inputs X. The inputs are assumed to be\n",
    "        stored in a matrix, where each row contains the features for one\n",
    "        instance.\n",
    "        \"\"\"\n",
    "\n",
    "        # First compute the output scores\n",
    "        scores = self.decision_function(X)\n",
    "\n",
    "        # Select the positive or negative class label, depending on whether\n",
    "        # the score was positive or negative.\n",
    "        out = np.select([scores >= 0.0, scores < 0.0],\n",
    "                        [self.positive_class,\n",
    "                         self.negative_class])\n",
    "        return out\n",
    "\n",
    "    def find_classes(self, Y):\n",
    "        \"\"\"\n",
    "        Finds the set of output classes in the output part Y of the training set.\n",
    "        If there are exactly two classes, one of them is associated to positive\n",
    "        classifier scores, the other one to negative scores. If the number of\n",
    "        classes is not 2, an error is raised.\n",
    "        \"\"\"\n",
    "        classes = sorted(set(Y))\n",
    "        if len(classes) != 2:\n",
    "            raise Exception(\"this does not seem to be a 2-class problem\")\n",
    "        self.positive_class = classes[1]\n",
    "        self.negative_class = classes[0]\n",
    "\n",
    "    def encode_outputs(self, Y):\n",
    "        \"\"\"\n",
    "        A helper function that converts all outputs to +1 or -1.\n",
    "        \"\"\"\n",
    "        return np.array([1 if y == self.positive_class else -1 for y in Y])"
   ]
  },
  {
   "attachments": {},
   "cell_type": "markdown",
   "metadata": {},
   "source": [
    "### **Implementing the SVC**"
   ]
  },
  {
   "cell_type": "code",
   "execution_count": null,
   "metadata": {},
   "outputs": [],
   "source": [
    "class SVC(LinearClassifier):\n",
    "\n",
    "    def __init__(self, reg_param, n_iter=20):\n",
    "        \"\"\"\n",
    "        The constructor can optionally take a parameter n_iter specifying how\n",
    "        many times we want to iterate through the training set.\n",
    "        \"\"\"\n",
    "        self.n_iter = n_iter\n",
    "        self.reg_param = reg_param\n",
    "\n",
    "    def fit(self, X, Y):\n",
    "\n",
    "        # First determine which output class will be associated with positive\n",
    "        # and negative scores, respectively.\n",
    "        self.find_classes(Y)\n",
    "\n",
    "        # Convert all outputs to +1 (for the positive class) or -1 (negative).\n",
    "        Ye = self.encode_outputs(Y)\n",
    "\n",
    "        # If necessary, convert the sparse matrix returned by a vectorizer\n",
    "        # into a normal NumPy matrix.\n",
    "        if not isinstance(X, np.ndarray):\n",
    "            X = X.toarray()\n",
    "\n",
    "        # Initialize the weight vector to all zeros.\n",
    "        n_features = X.shape[1]\n",
    "        self.w = np.zeros(n_features)\n",
    "        \n",
    "        t = 0\n",
    "        n = 0\n",
    "\n",
    "        for i in range(self.n_iter):\n",
    "            for x, y in zip(X, Ye):\n",
    "\n",
    "                t += 1\n",
    "                n = 1/(self.reg_param * t)\n",
    "\n",
    "                # Compute the output score for this instance.\n",
    "                score = x.dot(self.w)\n",
    "\n",
    "                if y * score < 1:\n",
    "                    self.w = (1 - n * self.reg_param) * self.w + (n * y) * x\n",
    "\n",
    "                else:\n",
    "                    self.w = (1 - n * self.reg_param) * self.w"
   ]
  },
  {
   "attachments": {},
   "cell_type": "markdown",
   "metadata": {},
   "source": [
    "### **Logistic Regression**\n"
   ]
  },
  {
   "cell_type": "code",
   "execution_count": null,
   "metadata": {},
   "outputs": [],
   "source": [
    "class LogisticRegression(LinearClassifier):\n",
    "\n",
    "    def __init__(self, reg_param, n_iter=20):\n",
    "        \"\"\"\n",
    "        The constructor can optionally take a parameter n_iter specifying how\n",
    "        many times we want to iterate through the training set.\n",
    "        \"\"\"\n",
    "        self.n_iter = n_iter\n",
    "        self.reg_param = reg_param\n",
    "\n",
    "    def fit(self, X, Y):\n",
    "\n",
    "        # First determine which output class will be associated with positive\n",
    "        # and negative scores, respectively.\n",
    "        self.find_classes(Y)\n",
    "\n",
    "        # Convert all outputs to +1 (for the positive class) or -1 (negative).\n",
    "        Ye = self.encode_outputs(Y)\n",
    "\n",
    "        # If necessary, convert the sparse matrix returned by a vectorizer\n",
    "        # into a normal NumPy matrix.\n",
    "        if not isinstance(X, np.ndarray):\n",
    "            X = X.toarray()\n",
    "\n",
    "        # Initialize the weight vector to all zeros.\n",
    "        n_features = X.shape[1]\n",
    "        self.w = np.zeros(n_features)\n",
    "        \n",
    "        t = 0\n",
    "        n = 0\n",
    "\n",
    "        # Logistic Regression algorithm:\n",
    "        for i in range(self.n_iter):\n",
    "            for x, y in zip(X, Ye):\n",
    "\n",
    "                t += 1\n",
    "                n = 1/(self.reg_param * t)\n",
    "\n",
    "                # Compute the output score for this instance.\n",
    "                score = x.dot(self.w)\n",
    "\n",
    "                # Using gradient of log loss\n",
    "                self.w = (1 - n * self.reg_param) * self.w + n*(y/(1+np.exp(y * score)))*x"
   ]
  },
  {
   "attachments": {},
   "cell_type": "markdown",
   "metadata": {},
   "source": [
    "## **Bonus Task**"
   ]
  },
  {
   "attachments": {},
   "cell_type": "markdown",
   "metadata": {},
   "source": [
    "### **MulticlassLinearClassifier**"
   ]
  },
  {
   "cell_type": "code",
   "execution_count": null,
   "metadata": {},
   "outputs": [],
   "source": [
    "from sklearn.preprocessing import LabelEncoder\n",
    "\n",
    "class MulticlassLinearClassifier(BaseEstimator):\n",
    "    \"\"\"\n",
    "    General class for multiclass linear classifiers. \n",
    "    \"\"\"\n",
    "\n",
    "    enc = LabelEncoder()\n",
    "\n",
    "    def decision_function(self, X):\n",
    "        \"\"\"\n",
    "        Computes the decision function for the inputs X. The inputs are assumed to be\n",
    "        stored in a matrix, where each row contains the features for one\n",
    "        instance.\n",
    "        \"\"\"\n",
    "        return X.dot(self.w)\n",
    "\n",
    "    def predict(self, X):\n",
    "\n",
    "        # First compute the output scores\n",
    "        scores = self.decision_function(X)\n",
    "        predictions = []\n",
    "\n",
    "        for row in scores:\n",
    "            predictions.append(np.argmax(row))\n",
    "\n",
    "        out = self.enc.inverse_transform(predictions)\n",
    "\n",
    "        return out\n",
    "\n",
    "    def find_classes(self, Y):\n",
    "        return len(set(Y))\n",
    "\n",
    "    def encode_outputs(self, Y):\n",
    "     \n",
    "        self.enc.fit(Y)\n",
    "\n",
    "        return np.array(self.enc.transform(Y))\n",
    "\n",
    "    "
   ]
  },
  {
   "attachments": {},
   "cell_type": "markdown",
   "metadata": {},
   "source": [
    "### **Multiclass SVM**"
   ]
  },
  {
   "cell_type": "code",
   "execution_count": null,
   "metadata": {},
   "outputs": [],
   "source": [
    "\n",
    "class MulticlassSVM(MulticlassLinearClassifier):\n",
    "\n",
    "    def __init__(self, reg_param, n_iter=20):\n",
    "        \"\"\"\n",
    "        The constructor can optionally take a parameter n_iter specifying how\n",
    "        many times we want to iterate through the training set.\n",
    "        \"\"\"\n",
    "        self.n_iter = n_iter\n",
    "        self.reg_param = reg_param\n",
    "\n",
    "    def fit(self, X, Y):\n",
    "\n",
    "        # Find the number of classes\n",
    "        number_of_classes = self.find_classes(Y)\n",
    "\n",
    "        # Encode the outputs\n",
    "        Ye = self.encode_outputs(Y)\n",
    "\n",
    "        # If necessary, convert the sparse matrix returned by a vectorizer\n",
    "        # into a normal NumPy matrix.\n",
    "        if not isinstance(X, np.ndarray):\n",
    "            X = X.toarray()\n",
    "\n",
    "        # Initialize the weight vector to all zeros.\n",
    "        n_features = X.shape[1]\n",
    "        self.w = np.zeros((n_features, number_of_classes))\n",
    "        \n",
    "        t = 0\n",
    "        n = 0\n",
    "       \n",
    "        for i in range(self.n_iter):\n",
    "            for x, y in zip(X, Ye):\n",
    "\n",
    "                t += 1\n",
    "                n = 1/(self.reg_param * t)\n",
    "\n",
    "                z_yi = x.dot(self.w[:, y])\n",
    "\n",
    "                delta_calculations = []\n",
    "                for c in range(number_of_classes):\n",
    "                    z_y = x.dot(self.w[:, c])\n",
    "                    if c != y:\n",
    "                        delta_calculations.append(1 - z_yi + z_y)\n",
    "                    else:\n",
    "                        delta_calculations.append(0 - z_yi + z_y)\n",
    "\n",
    "                y_hat = np.argmax(delta_calculations)\n",
    "\n",
    "                phi_yi  = np.zeros((n_features, number_of_classes))\n",
    "                phi_y_hat = np.zeros((n_features, number_of_classes))\n",
    "\n",
    "                phi_yi[:, y] = x\n",
    "                phi_y_hat[:, y_hat] = x\n",
    "\n",
    "                # Subgradient \n",
    "                subgradient = (phi_y_hat - phi_yi)\n",
    "\n",
    "                self.w = (1 - n * self.reg_param) * self.w - n * subgradient"
   ]
  },
  {
   "attachments": {},
   "cell_type": "markdown",
   "metadata": {},
   "source": [
    "### **Multiclass LR**"
   ]
  },
  {
   "cell_type": "code",
   "execution_count": null,
   "metadata": {},
   "outputs": [],
   "source": [
    "import scipy as sp\n",
    "\n",
    "class MulticlassLR(MulticlassLinearClassifier):\n",
    "\n",
    "    def __init__(self, reg_param, n_iter=20):\n",
    "        \"\"\"\n",
    "        The constructor can optionally take a parameter n_iter specifying how\n",
    "        many times we want to iterate through the training set.\n",
    "        \"\"\"\n",
    "        self.n_iter = n_iter\n",
    "        self.reg_param = reg_param\n",
    "\n",
    "    def fit(self, X, Y):\n",
    "\n",
    "        # Find the number of classes\n",
    "        number_of_classes = self.find_classes(Y)\n",
    "\n",
    "        # Encode outputs\n",
    "        Ye = self.encode_outputs(Y)\n",
    "\n",
    "        # If necessary, convert the sparse matrix returned by a vectorizer\n",
    "        # into a normal NumPy matrix.\n",
    "        if not isinstance(X, np.ndarray):\n",
    "            X = X.toarray()\n",
    "\n",
    "        # Initialize the weight vector to all zeros.\n",
    "        n_features = X.shape[1]\n",
    "        self.w = np.zeros((n_features, number_of_classes))\n",
    "        \n",
    "        t = 0\n",
    "        n = 0\n",
    "\n",
    "        for i in range(self.n_iter):\n",
    "            for x, y in zip(X, Ye):\n",
    "\n",
    "                t += 1\n",
    "                n = 1/(self.reg_param * t)\n",
    "\n",
    "                v_t = np.zeros((n_features, number_of_classes))\n",
    "\n",
    "                scores = x.dot(self.w)\n",
    "                \n",
    "                p = sp.special.softmax(scores)\n",
    "\n",
    "                phi_yi  = np.zeros((n_features, number_of_classes))\n",
    "                phi_r = np.zeros((n_features, number_of_classes))\n",
    "\n",
    "                phi_yi[:, y] = x\n",
    "\n",
    "                for r in range(number_of_classes):\n",
    "                    phi_r[:, r] = x\n",
    "\n",
    "                # Subgradient\n",
    "                v_t += p * phi_r - phi_yi\n",
    "\n",
    "                self.w = (1 - n * self.reg_param) * self.w - n * v_t"
   ]
  }
 ],
 "metadata": {
  "kernelspec": {
   "display_name": "base",
   "language": "python",
   "name": "python3"
  },
  "language_info": {
   "codemirror_mode": {
    "name": "ipython",
    "version": 3
   },
   "file_extension": ".py",
   "mimetype": "text/x-python",
   "name": "python",
   "nbconvert_exporter": "python",
   "pygments_lexer": "ipython3",
   "version": "3.9.7"
  },
  "orig_nbformat": 4,
  "vscode": {
   "interpreter": {
    "hash": "d3e2c82196e12baaed2ed09f9a042bc281a80ecc12c17ec56f626fcbf6ffbb0c"
   }
  }
 },
 "nbformat": 4,
 "nbformat_minor": 2
}
