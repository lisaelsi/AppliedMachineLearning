{
 "cells": [
  {
   "cell_type": "code",
   "execution_count": 2,
   "metadata": {},
   "outputs": [],
   "source": [
    "import pandas as pd\n",
    "import numpy as np\n",
    "from sklearn.feature_extraction.text import CountVectorizer, TfidfVectorizer\n",
    "from sklearn.model_selection import GridSearchCV\n",
    "from sklearn.svm import LinearSVC\n",
    "from sklearn.dummy import DummyClassifier\n",
    "from sklearn.model_selection import cross_val_score, cross_validate\n",
    "from sklearn.tree import DecisionTreeClassifier\n",
    "from sklearn.ensemble import RandomForestClassifier\n",
    "import matplotlib.pyplot as plt\n",
    "from sklearn.linear_model import LogisticRegression\n",
    "from sklearn.linear_model import SGDClassifier\n",
    "from sklearn.metrics import confusion_matrix, ConfusionMatrixDisplay, accuracy_score, f1_score, make_scorer, recall_score, precision_score"
   ]
  },
  {
   "cell_type": "code",
   "execution_count": 3,
   "metadata": {},
   "outputs": [
    {
     "name": "stdout",
     "output_type": "stream",
     "text": [
      "37885\n",
      "34182\n"
     ]
    }
   ],
   "source": [
    "# read data \n",
    "data = pd.read_table('./a3_train_final.tsv', header=None)\n",
    "\n",
    "data_shuffled = data.sample(frac=1.0, random_state=0)\n",
    "data_shuffled.columns = ['label', 'comment']\n",
    "\n",
    "# preprocessing\n",
    "replacements = {'\\'': '', '’': ''}\n",
    "data_shuffled.replace(replacements, regex=True, inplace=True) \n",
    "\n",
    "# get all labels, select most common one (removed if majority is -1)\n",
    "def most_common(x):\n",
    "    x = x.split('/')\n",
    "    if '-1' in x:\n",
    "        x.remove('-1')\n",
    "    return max(set(x), key=x.count)\n",
    "\n",
    "# get all labels, remove all rows that contains -1\n",
    "def remove_unsure(x):\n",
    "    x = x.split('/')\n",
    "    if '-1' in x:\n",
    "        return '-1'\n",
    "    return max(set(x), key=x.count)\n",
    "\n",
    "# get all labels, remove all that has conflicting labels\n",
    "def remove_all_conflicts(x):\n",
    "    x = x.split('/')\n",
    "    if len(set(x)) > 1:\n",
    "        return '-1'\n",
    "    return max(set(x), key=x.count)\n",
    "\n",
    "# get all labels, remove rows that contains -1 and those with equally many 0s and 1s\n",
    "def remove_ties(x):\n",
    "    x = x.split('/')\n",
    "    if '-1' in x:\n",
    "        return '-1'\n",
    "    if x.count('1') == x.count('0'):\n",
    "        return '-1' \n",
    "    return max(set(x), key=x.count)\n",
    "\n",
    "data_most_common_labels = pd.DataFrame.copy(data_shuffled)\n",
    "data_remove_unsure = pd.DataFrame.copy(data_shuffled)\n",
    "data_remove_ties = pd.DataFrame.copy(data_shuffled)\n",
    "data_remove_conflicts = pd.DataFrame.copy(data_shuffled)\n",
    "\n",
    "data_most_common_labels['label'] = data_shuffled['label'].apply(most_common)\n",
    "data_remove_unsure['label'] = data_shuffled['label'].apply(remove_unsure)\n",
    "data_remove_ties['label'] = data_shuffled['label'].apply(remove_ties)\n",
    "data_remove_conflicts['label'] = data_shuffled['label'].apply(remove_all_conflicts)\n",
    "\n",
    "# delete rows that should be removed\n",
    "data_most_common_labels = data_most_common_labels[data_most_common_labels['label'] != '-1']\n",
    "data_remove_unsure = data_remove_unsure[data_remove_unsure['label'] != '-1']\n",
    "data_remove_ties = data_remove_ties[data_remove_ties['label'] != '-1']\n",
    "data_remove_conflicts = data_remove_conflicts[data_remove_conflicts['label'] != '-1']\n",
    "\n",
    "print(len(data_most_common_labels))\n",
    "print(len(data_remove_unsure))\n"
   ]
  },
  {
   "cell_type": "code",
   "execution_count": 4,
   "metadata": {},
   "outputs": [],
   "source": [
    "test_data = pd.read_table('./a3_test.tsv', header=None)\n",
    "test_data.columns = ['label', 'comment']\n",
    "X_test = test_data['comment']\n",
    "Y_test = test_data['label']"
   ]
  },
  {
   "cell_type": "code",
   "execution_count": 5,
   "metadata": {},
   "outputs": [],
   "source": [
    "dataframes = [data_most_common_labels, data_remove_unsure, data_remove_ties, data_remove_conflicts]\n",
    "\n",
    "def split_data(df):\n",
    "    Y = df['label']\n",
    "    X = df['comment']\n",
    "    return X, Y\n",
    "\n",
    "X_data = []\n",
    "Y_data = []\n",
    "\n",
    "for df in dataframes:\n",
    "    X, Y = split_data(df)\n",
    "    X_data.append(X)\n",
    "    Y_data.append(Y)\n",
    "\n",
    "\n",
    "comments = X_data[3] "
   ]
  },
  {
   "cell_type": "code",
   "execution_count": 6,
   "metadata": {},
   "outputs": [
    {
     "name": "stdout",
     "output_type": "stream",
     "text": [
      "Most common words and their occurances: [('the', 42663), ('to', 25783), ('and', 23124)]\n",
      "Most common words and their occurances: [('the', 38579), ('to', 23353), ('and', 21249)]\n",
      "Most common words and their occurances: [('the', 36084), ('to', 21884), ('and', 19988)]\n",
      "Most common words and their occurances: [('the', 35886), ('to', 21774), ('and', 19909)]\n"
     ]
    }
   ],
   "source": [
    "def get_most_common_words(X):\n",
    "    cv = CountVectorizer()\n",
    "    X_enc = cv.fit_transform(X)\n",
    "    \n",
    "    word_list = cv.get_feature_names_out()\n",
    "    count_list = X_enc.toarray().sum(axis=0)\n",
    "\n",
    "    # Convert all strings in count_list to ints\n",
    "    count_list_int = list(map(int, count_list))\n",
    "\n",
    "    # Zip the two lists together and create a dictionary\n",
    "    zipped_lists = zip(word_list, count_list_int)\n",
    "    counted_words = dict(zipped_lists)\n",
    "\n",
    "    # Sort the dict from most to least common word\n",
    "    counted_words_sorted = dict(sorted(counted_words.items(), key=lambda item: item[1], reverse=True))\n",
    "\n",
    "    # Get n most common words\n",
    "    n = 3\n",
    "    dict_items = counted_words_sorted.items()\n",
    "    most_common_words_occurances = list(dict_items)[:n]\n",
    "    most_common_words = list(counted_words_sorted.keys())[:n]\n",
    "\n",
    "    print('Most common words and their occurances:', most_common_words_occurances)\n",
    "    return most_common_words\n",
    "\n",
    "def vectorize_tfidf(X, most_common_words):\n",
    "\n",
    "    tf_vec = TfidfVectorizer(smooth_idf=True, use_idf=True, strip_accents='unicode', stop_words = most_common_words)\n",
    "    X_enc = tf_vec.fit_transform(X)\n",
    "\n",
    "    return X_enc, tf_vec\n",
    "\n",
    "tf_vecs = []\n",
    "\n",
    "for i, x in enumerate(X_data):\n",
    "    most_common_words = get_most_common_words(x)\n",
    "    X_data[i], tf_vec = vectorize_tfidf(x, most_common_words)\n",
    "    tf_vecs.append(tf_vec)"
   ]
  },
  {
   "cell_type": "code",
   "execution_count": 7,
   "metadata": {},
   "outputs": [],
   "source": [
    "data_descriptions = {   0: 'select most common label',\n",
    "                        1: 'remove all rows that contains -1, keep majority label',\n",
    "                        2: 'remove rows that contains -1 and those with equally many 0s and 1s, keep majority label',\n",
    "                        3: 'remove rows that has conflicting labels'\n",
    "}"
   ]
  },
  {
   "cell_type": "code",
   "execution_count": 8,
   "metadata": {},
   "outputs": [],
   "source": [
    "scoring = {'accuracy': make_scorer(accuracy_score), \n",
    "           'f1': make_scorer(f1_score, pos_label='1'), \n",
    "            }\n"
   ]
  },
  {
   "attachments": {},
   "cell_type": "markdown",
   "metadata": {},
   "source": [
    "**Dummy Classifier**"
   ]
  },
  {
   "cell_type": "code",
   "execution_count": 9,
   "metadata": {},
   "outputs": [
    {
     "name": "stdout",
     "output_type": "stream",
     "text": [
      "Dataset description: select most common label\n",
      "Accuracy for Dummy classifier: 0.5265\n",
      "F1 score for Dummy classifier: 0.0\n",
      "\n",
      "Dataset description: remove all rows that contains -1, keep majority label\n",
      "Accuracy for Dummy classifier: 0.5247\n",
      "F1 score for Dummy classifier: 0.0\n",
      "\n",
      "Dataset description: remove rows that contains -1 and those with equally many 0s and 1s, keep majority label\n",
      "Accuracy for Dummy classifier: 0.5036\n",
      "F1 score for Dummy classifier: 0.6699\n",
      "\n",
      "Dataset description: remove rows that has conflicting labels\n",
      "Accuracy for Dummy classifier: 0.5038\n",
      "F1 score for Dummy classifier: 0.6701\n",
      "\n"
     ]
    }
   ],
   "source": [
    "for i in range(len(X_data)):\n",
    "\n",
    "    X = X_data[i]\n",
    "    Y = Y_data[i]\n",
    "\n",
    "    dummy = DummyClassifier(strategy='most_frequent')\n",
    "    dummy.fit(X, Y)\n",
    "    dummy_results = cross_validate(dummy, X, Y, cv=10, scoring=scoring, error_score=\"raise\")\n",
    "    \n",
    "    acc_score = dummy_results['test_accuracy'].mean()\n",
    "    f1_dummy = dummy_results['test_f1'].mean()\n",
    "\n",
    "    print(f'Dataset description: {data_descriptions[i]}')\n",
    "    print(f'Accuracy for Dummy classifier: {round(acc_score, 4)}')\n",
    "    print(f'F1 score for Dummy classifier: {round(f1_dummy, 4)}\\n')"
   ]
  },
  {
   "attachments": {},
   "cell_type": "markdown",
   "metadata": {},
   "source": [
    "**Random Forest Classifier**\n"
   ]
  },
  {
   "cell_type": "code",
   "execution_count": 27,
   "metadata": {},
   "outputs": [
    {
     "name": "stdout",
     "output_type": "stream",
     "text": [
      "Dataset description: select most common label\n",
      "Accuracy for random forest classifier (ensemble size = 30): 0.7681\n",
      "F1 score for random forest classifier: 0.7421\n",
      "\n",
      "Dataset description: remove all rows that contains -1, keep majority label\n",
      "Accuracy for random forest classifier (ensemble size = 30): 0.7761\n",
      "F1 score for random forest classifier: 0.7521\n",
      "\n",
      "Dataset description: remove rows that contains -1 and those with equally many 0s and 1s, keep majority label\n",
      "Accuracy for random forest classifier (ensemble size = 30): 0.7957\n",
      "F1 score for random forest classifier: 0.7936\n",
      "\n",
      "Dataset description: remove rows that has conflicting labels\n",
      "Accuracy for random forest classifier (ensemble size = 30): 0.8002\n",
      "F1 score for random forest classifier: 0.7974\n",
      "\n"
     ]
    }
   ],
   "source": [
    "ensemble_size = 30\n",
    "rf = RandomForestClassifier(ensemble_size)\n",
    "\n",
    "for i in range(len(X_data)):\n",
    "    \n",
    "    X = X_data[i]\n",
    "    Y = Y_data[i]\n",
    "\n",
    "    rf.fit(X, Y)\n",
    "\n",
    "    rf_results = cross_validate(rf, X, Y, cv=10, scoring=scoring, n_jobs=-1)\n",
    "    acc_score = rf_results['test_accuracy'].mean()\n",
    "    f1_rf = rf_results['test_f1'].mean()\n",
    "\n",
    "    print(f'Dataset description: {data_descriptions[i]}')\n",
    "    print(f'Accuracy for random forest classifier (ensemble size = {ensemble_size}): {round(acc_score, 4)}')\n",
    "    print(f'F1 score for random forest classifier: {round(f1_rf, 4)}\\n')"
   ]
  },
  {
   "cell_type": "code",
   "execution_count": 24,
   "metadata": {},
   "outputs": [
    {
     "name": "stdout",
     "output_type": "stream",
     "text": [
      "tuned hyperparameters: (best parameters)  {'bootstrap': False, 'max_depth': None, 'min_samples_leaf': 1, 'min_samples_split': 5, 'n_estimators': 30}\n",
      "accuracy: 0.8106767879198566\n"
     ]
    }
   ],
   "source": [
    "X = X_data[2]\n",
    "Y = Y_data[2]\n",
    "\n",
    "# Grid search for random forest \n",
    "param_grid = {\n",
    "    'bootstrap': [True, False],\n",
    "    'max_depth': [10, 40, 70, 100, None],\n",
    "    'min_samples_leaf': [1, 2, 4],\n",
    "    'min_samples_split': [2, 5, 10],\n",
    "    'n_estimators': [10, 20, 30]\n",
    " }\n",
    "\n",
    "rf = RandomForestClassifier()\n",
    "\n",
    "rf_cv = GridSearchCV(rf, param_grid, cv=10, n_jobs=-1)\n",
    "rf_cv.fit(X, Y)\n",
    "\n",
    "print(\"tuned hyperparameters: (best parameters) \", rf_cv.best_params_)\n",
    "print(\"accuracy:\", rf_cv.best_score_)\n"
   ]
  },
  {
   "attachments": {},
   "cell_type": "markdown",
   "metadata": {},
   "source": [
    "**BernoulliNB**"
   ]
  },
  {
   "cell_type": "code",
   "execution_count": 12,
   "metadata": {},
   "outputs": [
    {
     "name": "stdout",
     "output_type": "stream",
     "text": [
      "Dataset description: select most common label\n",
      "Accuracy for BernoulliNB classifier: 0.7796\n",
      "F1 score for BernoulliNB classifier: 0.7572\n",
      "\n",
      "Dataset description: remove all rows that contains -1, keep majority label\n",
      "Accuracy for BernoulliNB classifier: 0.7893\n",
      "F1 score for BernoulliNB classifier: 0.7698\n",
      "\n",
      "Dataset description: remove rows that contains -1 and those with equally many 0s and 1s, keep majority label\n",
      "Accuracy for BernoulliNB classifier: 0.8086\n",
      "F1 score for BernoulliNB classifier: 0.8029\n",
      "\n",
      "Dataset description: remove rows that has conflicting labels\n",
      "Accuracy for BernoulliNB classifier: 0.8091\n",
      "F1 score for BernoulliNB classifier: 0.8035\n",
      "\n"
     ]
    }
   ],
   "source": [
    "from sklearn.naive_bayes import BernoulliNB\n",
    "\n",
    "for i in range(len(X_data)):\n",
    "\n",
    "    X = X_data[i]\n",
    "    Y = Y_data[i]\n",
    "\n",
    "    bnb = BernoulliNB()\n",
    "\n",
    "    bnb.fit(X, Y)\n",
    "\n",
    "    bnb_results = cross_validate(bnb, X, Y, cv=10, scoring=scoring)\n",
    "    acc_score = bnb_results['test_accuracy'].mean()\n",
    "    f1_bnb = bnb_results['test_f1'].mean()\n",
    "\n",
    "    print(f'Dataset description: {data_descriptions[i]}')\n",
    "    print(f'Accuracy for BernoulliNB classifier: {round(acc_score, 4)}')\n",
    "    print(f'F1 score for BernoulliNB classifier: {round(f1_bnb, 4)}\\n')"
   ]
  },
  {
   "attachments": {},
   "cell_type": "markdown",
   "metadata": {},
   "source": [
    "**MultinomialNB**"
   ]
  },
  {
   "cell_type": "code",
   "execution_count": 13,
   "metadata": {},
   "outputs": [
    {
     "name": "stdout",
     "output_type": "stream",
     "text": [
      "Dataset description: select most common label\n",
      "Accuracy for MultinomialNB classifier: 0.7796\n",
      "F1 score for MultinomialNB classifier: 0.7572\n",
      "\n",
      "Dataset description: remove all rows that contains -1, keep majority label\n",
      "Accuracy for MultinomialNB classifier: 0.7893\n",
      "F1 score for MultinomialNB classifier: 0.7698\n",
      "\n",
      "Dataset description: remove rows that contains -1 and those with equally many 0s and 1s, keep majority label\n",
      "Accuracy for MultinomialNB classifier: 0.8086\n",
      "F1 score for MultinomialNB classifier: 0.8029\n",
      "\n",
      "Dataset description: remove rows that has conflicting labels\n",
      "Accuracy for MultinomialNB classifier: 0.8091\n",
      "F1 score for MultinomialNB classifier: 0.8035\n",
      "\n"
     ]
    }
   ],
   "source": [
    "from sklearn.naive_bayes import MultinomialNB\n",
    "\n",
    "for i in range(len(X_data)):\n",
    "\n",
    "    X = X_data[i]\n",
    "    Y = Y_data[i]    \n",
    "\n",
    "    mnb = MultinomialNB()\n",
    "    mnb.fit(X, Y)\n",
    "\n",
    "    mnb_results = cross_validate(bnb, X, Y, cv=10, scoring=scoring)\n",
    "    acc_mnb = mnb_results['test_accuracy'].mean()\n",
    "    f1_mnb= mnb_results['test_f1'].mean()\n",
    "\n",
    "    print(f'Dataset description: {data_descriptions[i]}')\n",
    "    print(f'Accuracy for MultinomialNB classifier: {round(acc_mnb, 4)}')\n",
    "    print(f'F1 score for MultinomialNB classifier: {round(f1_mnb, 4)}\\n')"
   ]
  },
  {
   "cell_type": "code",
   "execution_count": 14,
   "metadata": {},
   "outputs": [
    {
     "name": "stdout",
     "output_type": "stream",
     "text": [
      "tuned hyperparameters: (best parameters)  {'alpha': 1, 'fit_prior': False, 'force_alpha': True}\n",
      "accuracy: 0.8186438001316819\n"
     ]
    }
   ],
   "source": [
    "X = X_data[2]\n",
    "Y = Y_data[2]\n",
    "\n",
    "# Grid search for Multinomial NB\n",
    "param_grid = {  \n",
    "    'alpha': (1, 0.1, 0.01, 0.001, 0.0001, 0.00001),\n",
    "    'fit_prior': (True, False),\n",
    "    'force_alpha': (True, False)\n",
    "}  \n",
    "\n",
    "mnb = MultinomialNB()\n",
    "\n",
    "mnb_cv = GridSearchCV(mnb, param_grid, cv=10, n_jobs=-1)\n",
    "mnb_cv.fit(X, Y)\n",
    "\n",
    "print(\"tuned hyperparameters: (best parameters) \", mnb_cv.best_params_)\n",
    "print(\"accuracy:\", mnb_cv.best_score_)"
   ]
  },
  {
   "attachments": {},
   "cell_type": "markdown",
   "metadata": {},
   "source": [
    "**SVC**"
   ]
  },
  {
   "cell_type": "code",
   "execution_count": 28,
   "metadata": {},
   "outputs": [
    {
     "name": "stdout",
     "output_type": "stream",
     "text": [
      "tuned hyperparameters: (best parameters)  {'C': 1, 'tol': 1}\n",
      "accuracy: 0.8299595438227195\n"
     ]
    }
   ],
   "source": [
    "# Grid search for linear svc\n",
    "X = X_data[2]\n",
    "Y = Y_data[2]\n",
    "\n",
    "param_grid = {'C':[1,3,5],'tol':[1,0.1,0.001,0.0001]}\n",
    "\n",
    "svc = LinearSVC()\n",
    "\n",
    "svc_cv = GridSearchCV(svc, param_grid, cv=10, n_jobs=-1)\n",
    "svc_cv.fit(X, Y)\n",
    "\n",
    "print(\"tuned hyperparameters: (best parameters) \", svc_cv.best_params_)\n",
    "print(\"accuracy:\", svc_cv.best_score_)"
   ]
  },
  {
   "cell_type": "code",
   "execution_count": 16,
   "metadata": {},
   "outputs": [
    {
     "name": "stdout",
     "output_type": "stream",
     "text": [
      "Dataset description: select most common label\n",
      "Accuracy for SVC classifier (parameters set): 0.8002\n",
      "F1 score for SVC classifier (parameters set): 0.7875\n",
      "\n",
      "Dataset description: remove all rows that contains -1, keep majority label\n",
      "Accuracy for SVC classifier (parameters set): 0.8119\n",
      "F1 score for SVC classifier (parameters set): 0.8012\n",
      "\n",
      "Dataset description: remove rows that contains -1 and those with equally many 0s and 1s, keep majority label\n",
      "Accuracy for SVC classifier (parameters set): 0.832\n",
      "F1 score for SVC classifier (parameters set): 0.833\n",
      "\n",
      "Dataset description: remove rows that has conflicting labels\n",
      "Accuracy for SVC classifier (parameters set): 0.8323\n",
      "F1 score for SVC classifier (parameters set): 0.8333\n",
      "\n"
     ]
    }
   ],
   "source": [
    "for i in range(len(X_data)):\n",
    "\n",
    "    X = X_data[i]\n",
    "    Y = Y_data[i]\n",
    "\n",
    "    svc = LinearSVC(loss='hinge', max_iter=10000, tol=0.1)\n",
    "\n",
    "    svc.fit(X, Y)\n",
    "    svc_results = cross_validate(svc, X, Y, cv=10, scoring=scoring)\n",
    "    acc_svc = svc_results['test_accuracy'].mean()\n",
    "    f1_svc= svc_results['test_f1'].mean()\n",
    "    print(f'Dataset description: {data_descriptions[i]}')\n",
    "    print(f'Accuracy for SVC classifier (parameters set): {round(acc_svc, 4)}')\n",
    "    print(f'F1 score for SVC classifier (parameters set): {round(f1_svc, 4)}\\n')"
   ]
  },
  {
   "attachments": {},
   "cell_type": "markdown",
   "metadata": {},
   "source": [
    "**SVM**"
   ]
  },
  {
   "cell_type": "code",
   "execution_count": 17,
   "metadata": {},
   "outputs": [
    {
     "name": "stdout",
     "output_type": "stream",
     "text": [
      "Dataset description: select most common label\n",
      "Accuracy for SVM classifier (parameters set): 0.7969\n",
      "F1 score for SVM classifier (parameters set): 0.7803\n",
      "\n",
      "Dataset description: remove all rows that contains -1, keep majority label\n",
      "Accuracy for SVM classifier (parameters set): 0.8078\n",
      "F1 score for SVM classifier (parameters set): 0.7941\n",
      "\n",
      "Dataset description: remove rows that contains -1 and those with equally many 0s and 1s, keep majority label\n",
      "Accuracy for SVM classifier (parameters set): 0.827\n",
      "F1 score for SVM classifier (parameters set): 0.8266\n",
      "\n",
      "Dataset description: remove rows that has conflicting labels\n",
      "Accuracy for SVM classifier (parameters set): 0.827\n",
      "F1 score for SVM classifier (parameters set): 0.8263\n",
      "\n"
     ]
    }
   ],
   "source": [
    "for i in range(len(X_data)):\n",
    "    X = X_data[i]\n",
    "    Y = Y_data[i]\n",
    "    svm = SGDClassifier(loss='hinge', max_iter=10, tol=0.1, eta0=0.03)\n",
    "\n",
    "    svm.fit(X, Y)\n",
    "    svm_results = cross_validate(svm, X, Y, cv=10, scoring=scoring)\n",
    "    acc_svm = svm_results['test_accuracy'].mean()\n",
    "    f1_svm = svm_results['test_f1'].mean()\n",
    "    print(f'Dataset description: {data_descriptions[i]}')\n",
    "    print(f'Accuracy for SVM classifier (parameters set): {round(acc_svm, 4)}')\n",
    "    print(f'F1 score for SVM classifier (parameters set): {round(f1_svm, 4)}\\n')"
   ]
  },
  {
   "cell_type": "code",
   "execution_count": 29,
   "metadata": {},
   "outputs": [
    {
     "name": "stdout",
     "output_type": "stream",
     "text": [
      "tuned hyperparameters: (best parameters)  {'alpha': 0.0001, 'eta0': 0.003, 'loss': 'hinge', 'penalty': 'l2', 'tol': 0.1}\n",
      "accuracy: 0.8274793369762156\n"
     ]
    }
   ],
   "source": [
    "param_grid = {'eta0': [0.03, 0.01, 0.003, 0.001, 0.0003],\n",
    "              'penalty': ['l1', 'l2', 'elasticnet'],\n",
    "              'alpha': [1, 0.1, 0.01, 0.001, 0.0001],\n",
    "              'loss': ['hinge'],\n",
    "              'tol':[1,0.1,0.001,0.0001]\n",
    "              }\n",
    "\n",
    "X = X_data[2]\n",
    "Y = Y_data[2]\n",
    "\n",
    "\n",
    "svm = SGDClassifier()\n",
    "\n",
    "svm_cv = GridSearchCV(svm, param_grid, cv=10, n_jobs=-1)\n",
    "svm_cv.fit(X, Y)\n",
    "\n",
    "print(\"tuned hyperparameters: (best parameters) \", svm_cv.best_params_)\n",
    "print(\"accuracy:\", svm_cv.best_score_)"
   ]
  },
  {
   "attachments": {},
   "cell_type": "markdown",
   "metadata": {},
   "source": [
    "**Logistic Regression**"
   ]
  },
  {
   "cell_type": "code",
   "execution_count": 19,
   "metadata": {},
   "outputs": [],
   "source": [
    "def logr_feature_importance(logreg, vec):\n",
    "    importance = logreg.coef_[0]\n",
    "\n",
    "    feat_names = vec.get_feature_names_out()\n",
    "\n",
    "    zipped = list(zip(feat_names, importance))\n",
    "\n",
    "    sorted_zip = sorted(zipped, key = lambda x: x[1], reverse=False)\n",
    "\n",
    "    n = 10\n",
    "\n",
    "    n_most_negative = sorted(importance)[0:n]\n",
    "    n_most_positive = sorted(importance)[-n:]\n",
    "\n",
    "    most_important = n_most_negative + n_most_positive\n",
    "\n",
    "    names = []\n",
    "    for i in range(1, n+1):\n",
    "        names.append(sorted_zip[i-1][0])\n",
    "\n",
    "    for i in range (1, n+1):\n",
    "        names.append(sorted_zip[-i][0])\n",
    "\n",
    "    plt.bar([x for x in range(len(most_important))], most_important)\n",
    "    plt.xticks(range(len(names)), names, fontsize=12, rotation='vertical')\n",
    "\n",
    "    plt.show()"
   ]
  },
  {
   "cell_type": "code",
   "execution_count": 30,
   "metadata": {},
   "outputs": [
    {
     "name": "stdout",
     "output_type": "stream",
     "text": [
      "Dataset description: select most common label\n",
      "Accuracy for logistic regression (parameters set): 0.8003\n",
      "F1 score for logistic regression (parameters set): 0.7869\n",
      "\n"
     ]
    },
    {
     "data": {
      "image/png": "[encoded data removed]",
      "text/plain": [
       "<Figure size 432x288 with 1 Axes>"
      ]
     },
     "metadata": {
      "needs_background": "light"
     },
     "output_type": "display_data"
    },
    {
     "name": "stdout",
     "output_type": "stream",
     "text": [
      "Dataset description: remove all rows that contains -1, keep majority label\n",
      "Accuracy for logistic regression (parameters set): 0.8099\n",
      "F1 score for logistic regression (parameters set): 0.7984\n",
      "\n"
     ]
    },
    {
     "data": {
      "image/png": "[encoded data removed]",
      "text/plain": [
       "<Figure size 432x288 with 1 Axes>"
      ]
     },
     "metadata": {
      "needs_background": "light"
     },
     "output_type": "display_data"
    },
    {
     "name": "stdout",
     "output_type": "stream",
     "text": [
      "Dataset description: remove rows that contains -1 and those with equally many 0s and 1s, keep majority label\n",
      "Accuracy for logistic regression (parameters set): 0.8333\n",
      "F1 score for logistic regression (parameters set): 0.834\n",
      "\n"
     ]
    },
    {
     "data": {
      "image/png": "[encoded data removed]",
      "text/plain": [
       "<Figure size 432x288 with 1 Axes>"
      ]
     },
     "metadata": {
      "needs_background": "light"
     },
     "output_type": "display_data"
    },
    {
     "name": "stdout",
     "output_type": "stream",
     "text": [
      "Dataset description: remove rows that has conflicting labels\n",
      "Accuracy for logistic regression (parameters set): 0.8336\n",
      "F1 score for logistic regression (parameters set): 0.8342\n",
      "\n"
     ]
    },
    {
     "data": {
      "image/png": "[encoded data removed]",
      "text/plain": [
       "<Figure size 432x288 with 1 Axes>"
      ]
     },
     "metadata": {
      "needs_background": "light"
     },
     "output_type": "display_data"
    },
    {
     "data": {
      "image/png": "[encoded data removed]",
      "text/plain": [
       "<Figure size 432x288 with 2 Axes>"
      ]
     },
     "metadata": {
      "needs_background": "light"
     },
     "output_type": "display_data"
    }
   ],
   "source": [
    "# l2 gives highest accuracy \n",
    "logreg = LogisticRegression(max_iter=10000, C=4, tol=0.1)\n",
    "\n",
    "for i in range(len(X_data)):\n",
    "    X = X_data[i]\n",
    "    Y = Y_data[i]\n",
    "    vec = tf_vecs[i]\n",
    "\n",
    "    logreg.fit(X, Y)\n",
    "    lgr_results = cross_validate(logreg, X, Y, cv=10, scoring=scoring)\n",
    "    acc_lgr = lgr_results['test_accuracy'].mean()\n",
    "    f1_lgr= lgr_results['test_f1'].mean()\n",
    "    print(f'Dataset description: {data_descriptions[i]}')\n",
    "    print(f'Accuracy for logistic regression (parameters set): {round(acc_lgr, 4)}')\n",
    "    print(f'F1 score for logistic regression (parameters set): {round(f1_lgr, 4)}\\n')\n",
    "    logr_feature_importance(logreg, vec)\n",
    "\n",
    "predictions = logreg.predict(X)\n",
    "cm = confusion_matrix(Y, predictions)\n",
    "\n",
    "disp = ConfusionMatrixDisplay(confusion_matrix=cm,\n",
    "                              display_labels=logreg.classes_)\n",
    "disp.plot()\n",
    "\n",
    "plt.show()\n"
   ]
  },
  {
   "cell_type": "code",
   "execution_count": 21,
   "metadata": {},
   "outputs": [
    {
     "name": "stdout",
     "output_type": "stream",
     "text": [
      "Actual label: 0, Classified Label: 1\n",
      "Yea I know 3 people who have had both vaccines... And both have caught covid after!\n",
      "\n",
      "\n",
      "Actual label: 0, Classified Label: 1\n",
      "Simply because even though vaccinated a person can still carry and spread the virus. This was explained during rollout and it was also explained that infection after vaccination was expected. Thats why we asked \"So what is the point of getting the vaccine in the first place?\"\n",
      "\n",
      "\n",
      "Actual label: 1, Classified Label: 0\n",
      "No its like the mechanic saying there is nothing wrong with your car, while its definitely making a noise youve never heard it make before.\n",
      "\n",
      "\n",
      "Actual label: 1, Classified Label: 0\n",
      "If you are still worried about microchips in vaccines, just know that your life isnt interesting enough to track.\n",
      "\n",
      "\n",
      "Actual label: 1, Classified Label: 0\n",
      " Vaccine takes more than a year to develop.  This is the mistake people are making. Its not 1976 anymore. Vaccines do not take years to make.\n",
      "\n",
      "\n",
      "Actual label: 0, Classified Label: 1\n",
      "Once again the vaccines seem to be FAR less effective than originally advertised\n",
      "\n",
      "\n",
      "Actual label: 1, Classified Label: 0\n",
      "I have never met anyone who wasnt happy with taking the covid vaccine\n",
      "\n",
      "\n",
      "Actual label: 0, Classified Label: 1\n",
      "Vaccines have not been proven to be effective in preventing diseases.\n",
      "\n",
      "\n"
     ]
    }
   ],
   "source": [
    "# Looking at some examples of misclassified comments\n",
    "for i in range(100):\n",
    "    if Y.iloc[i] != predictions[i]:\n",
    "        print(f\"Actual label: {Y.iloc[i]}, Classified Label: {predictions[i]}\")\n",
    "        print(comments.iloc[i])\n",
    "        print('\\n')"
   ]
  },
  {
   "cell_type": "code",
   "execution_count": 22,
   "metadata": {},
   "outputs": [
    {
     "name": "stdout",
     "output_type": "stream",
     "text": [
      "tuned hyperparameters: (best parameters)  {'C': 4, 'penalty': 'l2', 'tol': 0.1}\n",
      "accuracy: 0.8334948630652302\n"
     ]
    }
   ],
   "source": [
    "# Grid search for logistic regression\n",
    "from warnings import simplefilter \n",
    "import warnings\n",
    "simplefilter(action=\"ignore\")\n",
    "warnings.filterwarnings(\"ignore\")\n",
    "\n",
    "X = X_data[3]\n",
    "Y = Y_data[3]\n",
    "\n",
    "c = [0, 1, 3, 4, 5, 6, 7, 10, 15, 20]\n",
    "\n",
    "param_grid = {\n",
    "            #\"C\": np.logspace(-3, 3, 7),\n",
    "            \"C\": c, \n",
    "            \"penalty\": [\"l1\",\"l2\"],\n",
    "            \"tol\": [0.0001, 0.00001, 0.001, 0.1, 1]\n",
    "        }\n",
    "\n",
    "logreg = LogisticRegression(max_iter=1000)\n",
    "\n",
    "logreg_cv = GridSearchCV(logreg, param_grid, cv=10, n_jobs=-1)\n",
    "logreg_cv.fit(X, Y)\n",
    "\n",
    "print(\"tuned hyperparameters: (best parameters) \", logreg_cv.best_params_)\n",
    "print(\"accuracy:\", logreg_cv.best_score_)"
   ]
  },
  {
   "cell_type": "code",
   "execution_count": 31,
   "metadata": {},
   "outputs": [
    {
     "name": "stdout",
     "output_type": "stream",
     "text": [
      "Accuracy on the test set: 0.8589\n",
      "F1 score on the test set: 0.8588\n"
     ]
    }
   ],
   "source": [
    "final_vec = tf_vecs[3]\n",
    "X_test_enc = final_vec.transform(X_test)\n",
    "\n",
    "test_predictions = logreg.predict(X_test_enc)\n",
    "Y_test = Y_test.astype(str) \n",
    "final_score = accuracy_score(Y_test, test_predictions)\n",
    "f1 = f1_score(Y_test, test_predictions, pos_label='1')\n",
    "\n",
    "print(f\"Accuracy on the test set: {round(final_score, 4)}\")\n",
    "print(f\"F1 score on the test set: {round(f1, 4)}\")\n"
   ]
  },
  {
   "cell_type": "code",
   "execution_count": null,
   "metadata": {},
   "outputs": [
    {
     "name": "stdout",
     "output_type": "stream",
     "text": [
      "Actual label: 0, Classified Label: 1\n",
      "After my second Pfizer shot I had. 105.2 fever and convulsions… then pneumonia for 2 weeks… the doctors wanted me to keep my mouth shut and not blame the shot I received\n",
      "\n",
      "\n",
      "Actual label: 1, Classified Label: 0\n",
      "All I can say is wow!!\n",
      "\n",
      "\n",
      "Actual label: 0, Classified Label: 1\n",
      "Alright I don’t think watching this video is gonna make me less scared to get the vaccine\n",
      "\n",
      "\n",
      "Actual label: 0, Classified Label: 1\n",
      "Alright, so now look into the covid protein spike and it's prion capable modification. Make sure you understand what you are getting yourself into when you take those shots, and it will also shed some light on the side effects you may have seen.\n",
      "\n",
      "\n",
      "Actual label: 0, Classified Label: 1\n",
      "Am vaccine free and glad i didnt comply. Feel bad for those who did.\n",
      "\n",
      "\n",
      "Actual label: 1, Classified Label: 0\n",
      "And a vaccine literally introduces the virus to your immune system in a non harmful way... Good food doesn't produce antibodies, a vaccine does.\n",
      "\n",
      "\n",
      "Actual label: 1, Classified Label: 0\n",
      "Anti-vaxers chose to believe the lie because the lie is always more interesting than the truth\n",
      "\n",
      "\n",
      "Actual label: 1, Classified Label: 0\n",
      "Antibodies were detected after the vaccine\n",
      "\n",
      "\n",
      "Actual label: 0, Classified Label: 1\n",
      "Any side effects doctor. None at all just death. But if you get covid you may die. Just vaccinate me to make sure I die than.\n",
      "\n",
      "\n",
      "Actual label: 0, Classified Label: 1\n",
      "Are we going to have boosters as often as smartphone updates? I'm amazed they still call it \"vaccines\"!\n",
      "\n",
      "\n",
      "Actual label: 0, Classified Label: 1\n",
      "As US citizens we want our vaccines to go to another country\n",
      "\n",
      "\n"
     ]
    }
   ],
   "source": [
    "# Looking at some examples of misclassified comments in the test set\n",
    "for i in range(50,100):\n",
    "    if Y_test.iloc[i] != test_predictions[i]:\n",
    "        print(f\"Actual label: {Y_test.iloc[i]}, Classified Label: {test_predictions[i]}\")\n",
    "        print(X_test.iloc[i])\n",
    "        print('\\n')"
   ]
  },
  {
   "cell_type": "code",
   "execution_count": null,
   "metadata": {},
   "outputs": [
    {
     "data": {
      "image/png": "[encoded data removed]",
      "text/plain": [
       "<Figure size 432x288 with 2 Axes>"
      ]
     },
     "metadata": {
      "needs_background": "light"
     },
     "output_type": "display_data"
    }
   ],
   "source": [
    "# Confusion matrix for the test set\n",
    "cm = confusion_matrix(Y_test, test_predictions)\n",
    "\n",
    "disp = ConfusionMatrixDisplay(confusion_matrix=cm,\n",
    "                              display_labels=logreg.classes_)\n",
    "disp.plot()\n",
    "\n",
    "plt.show()"
   ]
  }
 ],
 "metadata": {
  "kernelspec": {
   "display_name": "base",
   "language": "python",
   "name": "python3"
  },
  "language_info": {
   "codemirror_mode": {
    "name": "ipython",
    "version": 3
   },
   "file_extension": ".py",
   "mimetype": "text/x-python",
   "name": "python",
   "nbconvert_exporter": "python",
   "pygments_lexer": "ipython3",
   "version": "3.9.7"
  },
  "orig_nbformat": 4,
  "vscode": {
   "interpreter": {
    "hash": "d3e2c82196e12baaed2ed09f9a042bc281a80ecc12c17ec56f626fcbf6ffbb0c"
   }
  }
 },
 "nbformat": 4,
 "nbformat_minor": 2
}
